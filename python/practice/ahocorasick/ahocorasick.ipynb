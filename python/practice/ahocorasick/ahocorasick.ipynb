{
 "cells": [
  {
   "cell_type": "code",
   "execution_count": 165,
   "metadata": {},
   "outputs": [],
   "source": [
    "class Node:\n",
    "    def __init__(self,text):\n",
    "        self.text = text\n",
    "        self.last = 0\n",
    "        self.output = \"\"\n",
    "        self.child = {}\n",
    "        self.fail = None\n",
    "        self.rank = 0\n",
    "    def show(self):\n",
    "        print( \"text:\", self.text, \"output:\",self.output, \"fail:\", self.fail.text if self.fail is not None else \"None\",\"rank:\",self.rank)\n",
    "        if self.last:\n",
    "            print( \"LAST OUTPUT : \", self.output)\n",
    "        for k in self.child.keys():\n",
    "            s = self.child[k]\n",
    "            s.show()\n",
    "        "
   ]
  },
  {
   "cell_type": "code",
   "execution_count": 207,
   "metadata": {},
   "outputs": [],
   "source": [
    "class AhocorasickTrie:\n",
    "    \n",
    "    def __init__(self):\n",
    "        self.no = 0\n",
    "        self.root = Node(None)\n",
    "    \n",
    "    def add(self,text):\n",
    "        rank = 0\n",
    "        currentNode = self.root\n",
    "        for t in text:\n",
    "            if t not in currentNode.child:\n",
    "                self.no +=1\n",
    "                currentNode.child[t] = Node(t)\n",
    "                print(f\"ADD : {t} || Current No. : {self.no}\")\n",
    "            currentNode.rank = rank\n",
    "            rank+=1\n",
    "            currentNode = currentNode.child[t]\n",
    "        currentNode.output = text\n",
    "        currentNode.last = 1\n",
    "        currentNode.rank = rank\n",
    "        print(f\"TOTAL : {self.no}\")\n",
    "        \n",
    "        \n",
    "    def set_failur(self):\n",
    "        queue = []\n",
    "        for c,node in self.root.child.items():\n",
    "            node.fail = self.root\n",
    "            queue.append(node)\n",
    "        while queue:\n",
    "            currentNode = queue.pop(0)\n",
    "            for t,node in currentNode.child.items():\n",
    "                fail_node = currentNode.fail\n",
    "                while fail_node and t not in fail_node.child:\n",
    "                    fail_node = fail_node.fail\n",
    "                if fail_node:\n",
    "                    node.fail = fail_node.child[t]\n",
    "                else:\n",
    "                    node.fail = self.root\n",
    "                queue.append(node)\n",
    "    \n",
    "    def show(self):\n",
    "        self.root.display()  \n",
    "        \n",
    "    def find(self,text):\n",
    "        result = []\n",
    "        currentNode = self.root\n",
    "        for t in text:\n",
    "            while currentNode is not None and t not in currentNode.child:\n",
    "                print(\"fail\",currentNode.text)\n",
    "                currentNode = currentNode.fail\n",
    "            if t in currentNode.child:\n",
    "                currentNode = currentNode.child[t]\n",
    "                if currentNode.output != \"\":\n",
    "                    result += [currentNode.output]\n",
    "                    print(result,t,currentNode.output,currentNode.last,currentNode.output)\n",
    "                    \n",
    "        return result"
   ]
  },
  {
   "cell_type": "code",
   "execution_count": 208,
   "metadata": {},
   "outputs": [],
   "source": [
    "trie = Trie()"
   ]
  },
  {
   "cell_type": "code",
   "execution_count": 209,
   "metadata": {},
   "outputs": [
    {
     "name": "stdout",
     "output_type": "stream",
     "text": [
      "ADD : h || Current No. : 1\n",
      "ADD : i || Current No. : 2\n",
      "ADD : s || Current No. : 3\n",
      "TOTAL : 3\n",
      "ADD : e || Current No. : 4\n",
      "ADD : r || Current No. : 5\n",
      "TOTAL : 5\n",
      "ADD : s || Current No. : 6\n",
      "ADD : h || Current No. : 7\n",
      "ADD : w || Current No. : 8\n",
      "TOTAL : 8\n"
     ]
    }
   ],
   "source": [
    "trie.add(\"his\")\n",
    "trie.add(\"her\")\n",
    "trie.add(\"shw\")"
   ]
  },
  {
   "cell_type": "code",
   "execution_count": 210,
   "metadata": {},
   "outputs": [],
   "source": [
    "trie.set_failur()"
   ]
  },
  {
   "cell_type": "code",
   "execution_count": 211,
   "metadata": {},
   "outputs": [
    {
     "name": "stdout",
     "output_type": "stream",
     "text": [
      "text: None output:  fail: None rank: 0\n",
      "text: h output:  fail: None rank: 1\n",
      "text: i output:  fail: None rank: 2\n",
      "text: s output: his fail: s rank: 3\n",
      " +--Output: his\n",
      "text: e output:  fail: None rank: 2\n",
      "text: r output: her fail: None rank: 3\n",
      " +--Output: her\n",
      "text: s output:  fail: None rank: 1\n",
      "text: h output:  fail: h rank: 2\n",
      "text: w output: shw fail: None rank: 3\n",
      " +--Output: shw\n"
     ]
    }
   ],
   "source": [
    "trie.show()"
   ]
  },
  {
   "cell_type": "code",
   "execution_count": 186,
   "metadata": {},
   "outputs": [
    {
     "name": "stdout",
     "output_type": "stream",
     "text": [
      "['his'] s his 1 his\n",
      "fail s\n",
      "fail s\n",
      "['his', 'shw'] w shw 1 shw\n"
     ]
    },
    {
     "data": {
      "text/plain": [
       "['his', 'shw']"
      ]
     },
     "execution_count": 186,
     "metadata": {},
     "output_type": "execute_result"
    }
   ],
   "source": [
    "trie.find(\"hisshw\")"
   ]
  },
  {
   "cell_type": "code",
   "execution_count": null,
   "metadata": {},
   "outputs": [],
   "source": []
  },
  {
   "cell_type": "code",
   "execution_count": 227,
   "metadata": {},
   "outputs": [
    {
     "name": "stdout",
     "output_type": "stream",
     "text": [
      "<?xml version=\"1.0\" encoding=\"utf-8\"?><soap:Envelope xmlns:soap=\"http://schemas.xmlsoap.org/soap/envelope/\" xmlns:xsi=\"http://www.w3.org/2001/XMLSchema-instance\" xmlns:xsd=\"http://www.w3.org/2001/XMLSchema\"><soap:Header><EncryptedTicket xmlns=\"http://www.auction.co.kr/Security\"><Value>d7p3781BfwftripqdXb3uRCWfGdpPylGWQI2JXwAD5FW4WwtrDUz+BHOt5SfOPPXhikHPa0jtFkd+ZBxKhYpak0QXdWd8L5a1d5DJVQgA7jmr9KyZY8o9IlvcxFI+1FSgSaw2UiuZA3ugbrjub4k4C2yJHyS+52EpQuQusWBNS+KeOeAo3rfWWX3Ke9p1Bn+1uk+D2mDYoWR6voWjj6a+As=</Value></EncryptedTicket></soap:Header><soap:Body><GetMyAccountResponse xmlns=\"http://www.auction.co.kr/APIv1/AuctionService\"><GetMyAccountResult><MyAccount BankCode=\"\" BankName=\"\" AccountNumber=\"\" AccountName=\"\" xmlns=\"http://schema.auction.co.kr/Arche.APISvc.xsd\" /></GetMyAccountResult></GetMyAccountResponse></soap:Body></soap:Envelope>\n",
      "<Response [200]>\n"
     ]
    }
   ],
   "source": [
    "\n",
    "import requests\n",
    "# SOAP request URL\n",
    "url = \"http://api.auction.co.kr/APIv1/AuctionService.asmx\"\n",
    "ticket = \"\"\n",
    "# structured XML\n",
    "payload = f\"\"\"<?xml version=\"1.0\" encoding=\"utf-8\"?>\n",
    "<soap:Envelope xmlns:xsi=\"http://www.w3.org/2001/XMLSchema-instance\" xmlns:xsd=\"http://www.w3.org/2001/XMLSchema\" xmlns:soap=\"http://schemas.xmlsoap.org/soap/envelope/\">\n",
    "\t<soap:Header>\n",
    "\t\t<EncryptedTicket xmlns=\"http://www.auction.co.kr/Security\">\n",
    "\t\t\t<Value>{ticket}</Value>\n",
    "\t\t</EncryptedTicket>\n",
    "\t</soap:Header>\n",
    "\t<soap:Body>\n",
    "\t\t<GetMyAccount xmlns=\"http://www.auction.co.kr/APIv1/AuctionService\">\n",
    "\t\t\t<req>\n",
    "\t\t\t</req>\n",
    "\t\t</GetMyAccount>\n",
    "\t</soap:Body>\n",
    "</soap:Envelope>\n",
    "\t\"\"\"\n",
    "# headers\n",
    "headers = {\n",
    "    'Content-Type': 'text/xml; charset=utf-8',\n",
    "\"Content-Length\": \"length\",\n",
    "}\n",
    "# POST request\n",
    "response = requests.post(url, headers=headers, data=payload)\n",
    "  \n",
    "# prints the response\n",
    "print(response.text)\n",
    "print(response)"
   ]
  },
  {
   "cell_type": "code",
   "execution_count": null,
   "metadata": {},
   "outputs": [],
   "source": []
  }
 ],
 "metadata": {
  "kernelspec": {
   "display_name": "Python 3.8.12 ('leagal')",
   "language": "python",
   "name": "python3"
  },
  "language_info": {
   "codemirror_mode": {
    "name": "ipython",
    "version": 3
   },
   "file_extension": ".py",
   "mimetype": "text/x-python",
   "name": "python",
   "nbconvert_exporter": "python",
   "pygments_lexer": "ipython3",
   "version": "3.8.12"
  },
  "orig_nbformat": 4,
  "vscode": {
   "interpreter": {
    "hash": "6b0d7f758e3dc20e157369b5e732fe3779a62ac4d3c34a4ce86ee00d97d1e3bd"
   }
  }
 },
 "nbformat": 4,
 "nbformat_minor": 2
}
